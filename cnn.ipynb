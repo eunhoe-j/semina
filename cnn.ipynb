{
 "cells": [
  {
   "cell_type": "code",
   "id": "initial_id",
   "metadata": {
    "collapsed": true,
    "ExecuteTime": {
     "end_time": "2025-01-08T10:23:11.735935Z",
     "start_time": "2025-01-08T10:23:11.732317Z"
    }
   },
   "source": [
    "import torch\n",
    "import torch.nn.functional as F\n",
    "import torch.nn as nn\n",
    "import torch.optim as optim\n",
    "from torch import FloatTensor as tensor\n",
    "from torch.utils.data import TensorDataset, DataLoader\n",
    "import csv\n",
    "import numpy as np\n",
    "import matplotlib.pyplot as plt\n",
    "from torchvision import datasets, transforms"
   ],
   "outputs": [],
   "execution_count": 11
  },
  {
   "metadata": {
    "ExecuteTime": {
     "end_time": "2025-01-08T10:23:11.969292Z",
     "start_time": "2025-01-08T10:23:11.966566Z"
    }
   },
   "cell_type": "code",
   "source": [
    "transform = transforms.Compose([\n",
    "    transforms.Grayscale(num_output_channels=1),  # 컬러 이미지를 흑백으로 변환\n",
    "    transforms.Resize((128, 128)),               # 모든 이미지를 128x128로 크기 조정\n",
    "    transforms.ToTensor(),                        # 이미지를 PyTorch 텐서로 변환\n",
    "    transforms.Normalize(mean=[0.5], std=[0.5])   # 픽셀 값을 [-1, 1]로 정규화\n",
    "])"
   ],
   "id": "e56a29187cfdf475",
   "outputs": [],
   "execution_count": 12
  },
  {
   "metadata": {
    "ExecuteTime": {
     "end_time": "2025-01-08T10:23:12.214091Z",
     "start_time": "2025-01-08T10:23:12.197970Z"
    }
   },
   "cell_type": "code",
   "source": [
    "data_dir = \"ASL_Gestures_36_Classes\"\n",
    "dataset_train = datasets.ImageFolder(root=data_dir+\"/train\", transform=transform)\n",
    "dataset_test = datasets.ImageFolder(root=data_dir+\"/test\", transform=transform)"
   ],
   "id": "476387f2cf8ddcaa",
   "outputs": [],
   "execution_count": 13
  },
  {
   "metadata": {
    "ExecuteTime": {
     "end_time": "2025-01-08T10:23:12.481039Z",
     "start_time": "2025-01-08T10:23:12.477336Z"
    }
   },
   "cell_type": "code",
   "source": "data_loader = DataLoader(dataset_train, batch_size=32, shuffle=True, num_workers=2)",
   "id": "6b6d0f796d6edbb2",
   "outputs": [],
   "execution_count": 14
  },
  {
   "metadata": {
    "ExecuteTime": {
     "end_time": "2025-01-08T10:23:12.761308Z",
     "start_time": "2025-01-08T10:23:12.758308Z"
    }
   },
   "cell_type": "code",
   "source": [
    "train_loader = DataLoader(dataset_train, batch_size=32, shuffle=True, num_workers=2)\n",
    "test_loader = DataLoader(dataset_test, batch_size=32, shuffle=False, num_workers=2)"
   ],
   "id": "a05075d331b8a67e",
   "outputs": [],
   "execution_count": 15
  },
  {
   "metadata": {
    "ExecuteTime": {
     "end_time": "2025-01-08T10:23:13.016529Z",
     "start_time": "2025-01-08T10:23:12.991986Z"
    }
   },
   "cell_type": "code",
   "source": [
    "class CNNModel(nn.Module):\n",
    "    def __init__(self, num_classes=36):\n",
    "        super(CNNModel, self).__init__()\n",
    "        self.conv1 = nn.Conv2d(1, 32, kernel_size=3, stride=1, padding=1)\n",
    "        self.conv2 = nn.Conv2d(32, 64, kernel_size=3, stride=1, padding=1)\n",
    "        self.pool = nn.MaxPool2d(kernel_size=2, stride=2)\n",
    "        self.fc1 = nn.Linear(64 * 32 * 32, 128)\n",
    "        self.fc2 = nn.Linear(128, num_classes)\n",
    "\n",
    "    def forward(self, x):\n",
    "        x = self.pool(torch.relu(self.conv1(x)))\n",
    "        x = self.pool(torch.relu(self.conv2(x)))\n",
    "        x = x.view(-1, 64 * 32 * 32)  # Flatten\n",
    "        x = torch.relu(self.fc1(x))\n",
    "        x = self.fc2(x)\n",
    "        return x\n",
    "\n",
    "\n",
    "model = CNNModel()"
   ],
   "id": "df54c847d8bb3a75",
   "outputs": [],
   "execution_count": 16
  },
  {
   "metadata": {
    "ExecuteTime": {
     "end_time": "2025-01-08T10:23:13.247792Z",
     "start_time": "2025-01-08T10:23:13.244291Z"
    }
   },
   "cell_type": "code",
   "source": [
    "def train(model, loader, criterion, optimizer, device):\n",
    "    model.train()\n",
    "    running_loss = 0.0\n",
    "    for images, labels in loader:\n",
    "        images, labels = images.to(device), labels.to(device)\n",
    "\n",
    "        optimizer.zero_grad()\n",
    "        outputs = model(images)\n",
    "        loss = criterion(outputs, labels)\n",
    "        loss.backward()\n",
    "        optimizer.step()\n",
    "\n",
    "        running_loss += loss.item()\n",
    "    return running_loss / len(loader)"
   ],
   "id": "bf5eb56ba8b9e7b5",
   "outputs": [],
   "execution_count": 17
  },
  {
   "metadata": {
    "ExecuteTime": {
     "end_time": "2025-01-08T10:23:13.624496Z",
     "start_time": "2025-01-08T10:23:13.621187Z"
    }
   },
   "cell_type": "code",
   "source": [
    "def evaluate(model, loader, device):\n",
    "    model.eval()\n",
    "    correct = 0\n",
    "    total = 0\n",
    "    with torch.no_grad():\n",
    "        for images, labels in loader:\n",
    "            images, labels = images.to(device), labels.to(device)\n",
    "            outputs = model(images)\n",
    "            _, predicted = torch.max(outputs, 1)\n",
    "            total += labels.size(0)\n",
    "            correct += (predicted == labels).sum().item()\n",
    "    return correct / total\n"
   ],
   "id": "3befec386552a570",
   "outputs": [],
   "execution_count": 18
  },
  {
   "metadata": {
    "ExecuteTime": {
     "end_time": "2025-01-08T10:23:13.993442Z",
     "start_time": "2025-01-08T10:23:13.989402Z"
    }
   },
   "cell_type": "code",
   "source": "torch.cuda.is_available()",
   "id": "43e7af2480a7aa4",
   "outputs": [
    {
     "data": {
      "text/plain": [
       "True"
      ]
     },
     "execution_count": 19,
     "metadata": {},
     "output_type": "execute_result"
    }
   ],
   "execution_count": 19
  },
  {
   "metadata": {
    "ExecuteTime": {
     "end_time": "2025-01-08T10:25:15.082534Z",
     "start_time": "2025-01-08T10:23:15.309432Z"
    }
   },
   "cell_type": "code",
   "source": [
    "# 모델, 손실 함수, 옵티마이저 정의\n",
    "device = torch.device(\"cuda\" if torch.cuda.is_available() else \"cpu\")\n",
    "model = CNNModel(num_classes=len(dataset_train.classes)).to(device)\n",
    "criterion = nn.CrossEntropyLoss()\n",
    "optimizer = optim.Adam(model.parameters(), lr=0.001)\n",
    "\n",
    "# 학습 설정\n",
    "epochs = 10\n",
    "for epoch in range(epochs):\n",
    "    train_loss = train(model, train_loader, criterion, optimizer, device)\n",
    "    accuracy = evaluate(model, test_loader, device)\n",
    "    print(f\"Epoch {epoch+1}/{epochs}, Loss: {train_loss:.4f}, Accuracy: {accuracy:.4f}\")"
   ],
   "id": "65d6696122fe1c98",
   "outputs": [
    {
     "name": "stdout",
     "output_type": "stream",
     "text": [
      "Epoch 1/10, Loss: 2.9799, Accuracy: 0.6508\n",
      "Epoch 2/10, Loss: 0.6190, Accuracy: 0.8810\n",
      "Epoch 3/10, Loss: 0.2409, Accuracy: 0.9365\n",
      "Epoch 4/10, Loss: 0.1215, Accuracy: 0.9583\n",
      "Epoch 5/10, Loss: 0.0671, Accuracy: 0.9643\n",
      "Epoch 6/10, Loss: 0.0306, Accuracy: 0.9583\n",
      "Epoch 7/10, Loss: 0.0267, Accuracy: 0.9683\n",
      "Epoch 8/10, Loss: 0.0093, Accuracy: 0.9722\n",
      "Epoch 9/10, Loss: 0.0062, Accuracy: 0.9782\n",
      "Epoch 10/10, Loss: 0.0036, Accuracy: 0.9742\n"
     ]
    }
   ],
   "execution_count": 20
  },
  {
   "metadata": {},
   "cell_type": "markdown",
   "source": [
    "epoch 10 cuda 12.4 RTX 4060 laptop : 1m 12s<br>\n",
    "epoch 10 cpu i9 : 1m 59s<br>"
   ],
   "id": "b4b1d87e3f89c599"
  },
  {
   "metadata": {},
   "cell_type": "code",
   "outputs": [],
   "execution_count": null,
   "source": "",
   "id": "d029e326cf195134"
  }
 ],
 "metadata": {
  "kernelspec": {
   "display_name": "Python 3",
   "language": "python",
   "name": "python3"
  },
  "language_info": {
   "codemirror_mode": {
    "name": "ipython",
    "version": 2
   },
   "file_extension": ".py",
   "mimetype": "text/x-python",
   "name": "python",
   "nbconvert_exporter": "python",
   "pygments_lexer": "ipython2",
   "version": "2.7.6"
  }
 },
 "nbformat": 4,
 "nbformat_minor": 5
}
